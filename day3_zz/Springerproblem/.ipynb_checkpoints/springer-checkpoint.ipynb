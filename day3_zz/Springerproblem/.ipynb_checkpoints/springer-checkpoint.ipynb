{
 "cells": [
  {
   "cell_type": "code",
   "execution_count": 1,
   "id": "31fe8768",
   "metadata": {},
   "outputs": [
    {
     "name": "stdout",
     "output_type": "stream",
     "text": [
      "<class 'tuple'>\n"
     ]
    }
   ],
   "source": [
    "\n",
    "\n",
    "\n",
    "\n",
    "a = (1,2)\n",
    "print(type(a))"
   ]
  },
  {
   "cell_type": "code",
   "execution_count": null,
   "id": "91f2b904",
   "metadata": {},
   "outputs": [],
   "source": [
    "answer = [(0,1),(1,2)]"
   ]
  },
  {
   "cell_type": "code",
   "execution_count": 3,
   "id": "f3d2027c",
   "metadata": {},
   "outputs": [
    {
     "data": {
      "text/plain": [
       "True"
      ]
     },
     "execution_count": 3,
     "metadata": {},
     "output_type": "execute_result"
    }
   ],
   "source": [
    "(0,1) in answer"
   ]
  },
  {
   "cell_type": "code",
   "execution_count": 7,
   "id": "2dfc897a",
   "metadata": {},
   "outputs": [],
   "source": [
    "grid_set = set()\n",
    "for i in range(5):\n",
    "    for j in range(5):\n",
    "        grid_set.add((i,j))\n",
    "        "
   ]
  },
  {
   "cell_type": "code",
   "execution_count": 9,
   "id": "139f3c2b",
   "metadata": {},
   "outputs": [
    {
     "data": {
      "text/plain": [
       "25"
      ]
     },
     "execution_count": 9,
     "metadata": {},
     "output_type": "execute_result"
    }
   ],
   "source": [
    "len(grid_set)"
   ]
  },
  {
   "cell_type": "code",
   "execution_count": 11,
   "id": "f5ce1161",
   "metadata": {},
   "outputs": [
    {
     "data": {
      "text/plain": [
       "True"
      ]
     },
     "execution_count": 11,
     "metadata": {},
     "output_type": "execute_result"
    }
   ],
   "source": [
    "(1,2) in grid_set"
   ]
  },
  {
   "cell_type": "code",
   "execution_count": 12,
   "id": "66628739",
   "metadata": {},
   "outputs": [],
   "source": [
    "grid_set.remove((1,2))"
   ]
  },
  {
   "cell_type": "code",
   "execution_count": 13,
   "id": "cb537116",
   "metadata": {},
   "outputs": [
    {
     "data": {
      "text/plain": [
       "False"
      ]
     },
     "execution_count": 13,
     "metadata": {},
     "output_type": "execute_result"
    }
   ],
   "source": [
    "(1,2) in grid_set"
   ]
  },
  {
   "cell_type": "code",
   "execution_count": 17,
   "id": "f85fd3de",
   "metadata": {},
   "outputs": [],
   "source": [
    "\n",
    "start = (0,0)\n",
    "\n",
    "\n",
    "path = []\n",
    "\n",
    "def recursion(x, y,grid_set):\n",
    "    \n",
    "    if(len(grid_set) == 0):\n",
    "        \n",
    "        return [(x,y)]\n",
    "    \n",
    "    \n",
    "    \n",
    "    if((x+1,y+2) in grid_set):\n",
    "        grid_set.remove((x+1,y+2,))\n",
    "        if(recursion(x+1, y+2,grid_set)==False):\n",
    "            return False\n",
    "        else:\n",
    "            return recursion(x+1, y+2,grid_set).append((x,y))\n",
    "        \n",
    "        \n",
    "    if...\n",
    "    \n",
    "    \n",
    "    \n",
    "    \n",
    "    return False\n"
   ]
  },
  {
   "cell_type": "code",
   "execution_count": null,
   "id": "7beb4d1f",
   "metadata": {},
   "outputs": [],
   "source": []
  }
 ],
 "metadata": {
  "kernelspec": {
   "display_name": "Python 3 (ipykernel)",
   "language": "python",
   "name": "python3"
  },
  "language_info": {
   "codemirror_mode": {
    "name": "ipython",
    "version": 3
   },
   "file_extension": ".py",
   "mimetype": "text/x-python",
   "name": "python",
   "nbconvert_exporter": "python",
   "pygments_lexer": "ipython3",
   "version": "3.9.7"
  }
 },
 "nbformat": 4,
 "nbformat_minor": 5
}
